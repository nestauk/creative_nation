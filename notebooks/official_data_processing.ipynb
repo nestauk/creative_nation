{
 "cells": [
  {
   "cell_type": "markdown",
   "metadata": {},
   "source": [
    "# Official data processing\n",
    "\n",
    "### Inputs\n",
    "* BRES data downloaded from Nomis\n",
    "* IDBR data downloaded from Nomis (including data about size distributions)\n",
    "* IDBR data obtained from Frontier Economics\n",
    "* ABS data obtained from Frontier Economics\n",
    "\n",
    "\n",
    "### Outputs\n",
    "A collection of tables with information about creative sectors and subsectors at the right level of detail (TTWA, region) and in a tidy format\n",
    "\n"
   ]
  },
  {
   "cell_type": "markdown",
   "metadata": {},
   "source": [
    "## Preamble"
   ]
  },
  {
   "cell_type": "code",
   "execution_count": 1,
   "metadata": {
    "collapsed": true
   },
   "outputs": [],
   "source": [
    "%matplotlib inline\n",
    "#Imports\n",
    "\n",
    "#Key imports are loaded from my profile (see standard_imports.py in src folder).\n",
    "\n",
    "#Paths\n",
    "\n",
    "#Paths\n",
    "top = os.path.dirname(os.getcwd())\n",
    "\n",
    "#External data (to download the GRID database)\n",
    "ext_data = os.path.join(top,'data/external')\n",
    "\n",
    "#Interim data (to place seed etc)\n",
    "int_data = os.path.join(top,'data/interim')\n",
    "\n",
    "#Figures\n",
    "fig_path = os.path.join(top,'reports/figures')\n",
    "\n",
    "#Models\n",
    "mod_path = os.path.join(top,'models')\n",
    "\n",
    "#Visualisations\n",
    "viz_path = os.path.join(top,'src/visualization')\n",
    "\n",
    "#Get date for saving files\n",
    "today = datetime.datetime.today()\n",
    "\n",
    "today_str = \"_\".join([str(x) for x in [today.day,today.month,today.year]])"
   ]
  },
  {
   "cell_type": "code",
   "execution_count": 2,
   "metadata": {
    "collapsed": false
   },
   "outputs": [],
   "source": [
    "# Classes\n",
    "\n",
    "class BresData():\n",
    "    '''\n",
    "    This class processes data downloaded from BRES. This includes...\n",
    "    -Reading the data and removing irrelevant info at the top and bottom\n",
    "    -Removing disclosure columns\n",
    "    -Clean up column names\n",
    "    -Option to gather data over a selected set of codes (e.g. creative industries codes)\n",
    "    -Generate LQs\n",
    "    \n",
    "    We assume that the rows are locations (eg TTWAs and the columns are industries)\n",
    "    \n",
    "    '''\n",
    "    \n",
    "    def __init__(self,file,year):\n",
    "        '''\n",
    "        Initialise the class\n",
    "        \n",
    "        '''\n",
    "        \n",
    "        #File name\n",
    "        self.file_name = file\n",
    "        self.year=year\n",
    "        \n",
    "    def read_clean_data(self,rows_to_skip=8):\n",
    "        '''\n",
    "        Read the data and metadata\n",
    "        \n",
    "        '''\n",
    "        #Read the data. NB we had a look to determine how many files to skip\n",
    "        raw_data = pd.read_csv(self.file_name,skiprows=rows_to_skip,na_values='-')\n",
    "        \n",
    "        #Find the column with totals...\n",
    "        last_row = list(raw_data.iloc[:,0]).index('Column Total')\n",
    "        \n",
    "        #...and remove\n",
    "        raw_data = raw_data.loc[:last_row-1,:]\n",
    "        \n",
    "        #Remove unnamed columns\n",
    "        clean_data = raw_data.loc[:,['Unnamed' not in x for x in raw_data.columns]]\n",
    "        \n",
    "        #Clean variable names:\n",
    "        #Clean the sics (only leave the numbers - careful with the str/int thing though!)\n",
    "        clean_names = [x.split(':')[0].strip() if ':' in x else x for x in clean_data.columns]\n",
    "        \n",
    "        clean_names[0] = 'ttwa_name'\n",
    "        clean_names[1] = 'ttwa_code'\n",
    "        \n",
    "        clean_data.columns = clean_names\n",
    "        \n",
    "        self.processed_data = clean_data\n",
    "        \n",
    "        return(self)\n",
    "        \n",
    "    def gather_by_sector(self,sector_lookup,sector_totals=True,sector_name='creative_industries'):\n",
    "        '''\n",
    "        \n",
    "        We gather the data by sector. The gathering is based on a lookup matching sic codes to sectors\n",
    "        to aggregate over. We also extract LQs\n",
    "        \n",
    "        '''\n",
    "        #Load data\n",
    "        data = self.processed_data\n",
    "        \n",
    "        #Melt and gather\n",
    "        data_long = pd.merge(pd.melt(data,id_vars=['ttwa_name','ttwa_code'],var_name='sic'),\n",
    "                             sector_lookup,left_on='sic',right_on='sic',how='outer')\n",
    "        \n",
    "        data_long['sector'].fillna('not_in_sector',inplace=True) \n",
    "        \n",
    "        #Pivot to generate the aggregates\n",
    "        data_wide = pd.pivot_table(data_long,index=['ttwa_name','ttwa_code'],columns='sector',\n",
    "                                  values='value',aggfunc='sum')\n",
    "        \n",
    "        \n",
    "        #If we decided we wanted aggregates for the whole sector, we do that:\n",
    "        \n",
    "        if sector_totals==True:\n",
    "            #If sector totals is true, aggregate over them\n",
    "            data_wide[sector_name] = data_wide.loc[:,[\n",
    "                x for x in data_wide.columns if x!='not_in_sector']].sum(axis=1)\n",
    "            \n",
    "    \n",
    "        #Also extract LQs (using the create_lq utility function)\n",
    "        self.gathered_data_lq = create_lq_df(data_wide) \n",
    "\n",
    "        data_wide['year'] = self.year\n",
    "        self.gathered_data = data_wide\n",
    "        \n",
    "        return(self)\n",
    "    \n",
    "class QueryNomis():\n",
    "    '''\n",
    "    This class queries the Nomis API. It takes an API link extracted from the Nomis interface\n",
    "    and the total number of records (which is used for pagination)\n",
    "    \n",
    "    '''\n",
    "    \n",
    "    def __init__(self,link,total_records):\n",
    "        '''\n",
    "        Initialise with links and the total number of records\n",
    "    \n",
    "        '''\n",
    "        \n",
    "        self.link = link\n",
    "        self.total_records = total_records\n",
    "    \n",
    "    #We use this decorator to be nice to the API\n",
    "    @ratelim.patient(60,time_interval=60)\n",
    "    def query_nomis(self):\n",
    "        '''\n",
    "        This method queries nomis for the data in the API. \n",
    "        We keep things simple by using the pandas read_csv function directly\n",
    "        \n",
    "        '''\n",
    "        \n",
    "        #Link\n",
    "        link = self.link\n",
    "        \n",
    "        #DF container\n",
    "        df_container =[]\n",
    "        \n",
    "        #Counters\n",
    "        offset = 0\n",
    "        records_left = self.total_records\n",
    "        \n",
    "        \n",
    "        #While the final record we will obtain is below the total number of records:\n",
    "        while(records_left>0):\n",
    "            \n",
    "            print(records_left)            \n",
    "            \n",
    "            #Modify the query link with the offset\n",
    "            query_link = link+'&recordoffset={off}'.format(off=str(offset))\n",
    "            \n",
    "            #Run query\n",
    "            output = pd.read_csv(query_link)\n",
    "            \n",
    "            #Append output to our container list\n",
    "            df_container.append(output)\n",
    "            \n",
    "            #Update the offset (next time we will query from this point)\n",
    "            offset+=25000\n",
    "            \n",
    "            #This is the number of records left to collect\n",
    "            records_left-=25000\n",
    "        \n",
    "        #Concatenate all the outputs\n",
    "        final_df = pd.concat(df_container)\n",
    "        \n",
    "        #Get it out\n",
    "        self.output_data= final_df"
   ]
  },
  {
   "cell_type": "code",
   "execution_count": 3,
   "metadata": {
    "collapsed": true
   },
   "outputs": [],
   "source": [
    "#Functions\n",
    "\n",
    "def create_lq_df(df):\n",
    "    '''\n",
    "    Takes a df with cells = activity in col in row and returns a df with cells = lq\n",
    "    \n",
    "    '''\n",
    "    \n",
    "    area_activity = df.sum(axis=0)\n",
    "    area_shares = area_activity/area_activity.sum()\n",
    "    \n",
    "    lqs = df.apply(lambda x: (x/x.sum())/area_shares, axis=1)\n",
    "    return(lqs)"
   ]
  },
  {
   "cell_type": "markdown",
   "metadata": {},
   "source": [
    "# Load Data"
   ]
  },
  {
   "cell_type": "markdown",
   "metadata": {},
   "source": [
    "### Load metadata"
   ]
  },
  {
   "cell_type": "code",
   "execution_count": 4,
   "metadata": {
    "collapsed": false
   },
   "outputs": [],
   "source": [
    "#Load the sic-creative lookup\n",
    "creative_lookup = pd.read_csv(ext_data+'/ce_codes.csv')\n",
    "\n",
    "#Remove SOC codes and detailed SIC labels\n",
    "creative_lookup = creative_lookup.loc[creative_lookup.type=='SIC',['code','label2']]\n",
    "\n",
    "#Rename label2 into sector\n",
    "creative_lookup.rename(columns={'label2':'sector',\n",
    "                               'code':'sic'},inplace=True)\n",
    "\n",
    "creative_lookup['sic'] =[str(x) for x in creative_lookup['sic']]"
   ]
  },
  {
   "cell_type": "markdown",
   "metadata": {},
   "source": [
    "### Extract BRES data"
   ]
  },
  {
   "cell_type": "code",
   "execution_count": 5,
   "metadata": {
    "collapsed": false
   },
   "outputs": [],
   "source": [
    "#Extract bres_data\n",
    "bres_data = [BresData(ext_data+'/bres_{y}.csv'.format(\n",
    "    y=x),year=x).read_clean_data().gather_by_sector(creative_lookup) for x in ['2015','2016']]\n",
    "\n",
    "\n",
    "bres_totals_df = pd.concat([x.gathered_data for x in bres_data])\n",
    "\n",
    "bres_totals_df.to_csv(ext_data+'/bres_creative_2015_16.csv')"
   ]
  },
  {
   "cell_type": "code",
   "execution_count": 6,
   "metadata": {
    "collapsed": false
   },
   "outputs": [],
   "source": [
    "#Extract bres_data with employees\n",
    "bres_data_employees = [BresData(ext_data+'/bres_employees_{y}.csv'.format(\n",
    "    y=x),year=x).read_clean_data().gather_by_sector(creative_lookup) for x in ['2015','2016']]\n",
    "\n",
    "\n",
    "bres_totals_employees_df = pd.concat([x.gathered_data for x in bres_data_employees])\n",
    "\n",
    "#bres_totals_df.to_csv(ext_data+'/bres_creative_2015_16.csv')"
   ]
  },
  {
   "cell_type": "code",
   "execution_count": 7,
   "metadata": {
    "collapsed": false
   },
   "outputs": [],
   "source": [
    "#Create averages between employees and employment\n",
    "bres_totals_combined = pd.merge(pd.melt(bres_totals_df.reset_index(drop=False),id_vars=['ttwa_name','ttwa_code','year'],\n",
    "                               value_name='employment'),\n",
    "                       pd.melt(bres_totals_employees_df.reset_index(drop=False),id_vars=['ttwa_name','ttwa_code','year'],\n",
    "                               value_name='employees'),\n",
    "                       left_on=['ttwa_name','ttwa_code','year','sector'],\n",
    "                                right_on=['ttwa_name','ttwa_code','year','sector'])\n",
    "\n",
    "bres_totals_combined['employment_average'] = np.round(\n",
    "    (bres_totals_combined.employment+bres_totals_combined.employees)/2)\n",
    "\n",
    "bres_totals_combined_df = pd.pivot_table(bres_totals_combined,\n",
    "                               index=['ttwa_name','ttwa_code','year'],\n",
    "                               columns='sector',values='employment_average')\n",
    "\n",
    "bres_totals_combined_df.to_csv(ext_data+'/bres_creative_combined_2015_16.csv')"
   ]
  },
  {
   "cell_type": "markdown",
   "metadata": {},
   "source": [
    "### Load IDBR data\n",
    "\n",
    "Load IDBR data collected by frontier economics. We need to output it in a similar format to BRES / IDBR above\n"
   ]
  },
  {
   "cell_type": "code",
   "execution_count": 103,
   "metadata": {
    "collapsed": false
   },
   "outputs": [
    {
     "name": "stderr",
     "output_type": "stream",
     "text": [
      "/usr/local/lib/python3.5/site-packages/pandas/util/_decorators.py:118: FutureWarning: The `sheetname` keyword is deprecated, use `sheet_name` instead\n",
      "  return func(*args, **kwargs)\n"
     ]
    }
   ],
   "source": [
    "def rename_columns(df, old_names,new_names):\n",
    "    '''\n",
    "    This function renames a columns names\n",
    "    '''\n",
    "    \n",
    "    df.rename(columns={x:y for x,y in zip(old_names,new_names)},inplace=True)\n",
    "    \n",
    "ttwa_codes_names_lookup = pd.read_excel(ext_data+'/frontier/'+'spd-creative clusters counts and LQs-LU-04-01-2018.xlsx',\n",
    "                           sheetname=6)[['TTWA11CD','TTWA11NM']]\n",
    "\n",
    "ttwa_codes_names_lookup = {x:y for x,y in zip(ttwa_codes_names_lookup.TTWA11CD,ttwa_codes_names_lookup.TTWA11NM)}"
   ]
  },
  {
   "cell_type": "code",
   "execution_count": 110,
   "metadata": {
    "collapsed": false
   },
   "outputs": [
    {
     "name": "stderr",
     "output_type": "stream",
     "text": [
      "/usr/local/lib/python3.5/site-packages/pandas/util/_decorators.py:118: FutureWarning: The `sheetname` keyword is deprecated, use `sheet_name` instead\n",
      "  return func(*args, **kwargs)\n"
     ]
    },
    {
     "data": {
      "text/plain": [
       "All creative industries                        225\n",
       "not_creative                                   225\n",
       "IT, software and computer services             154\n",
       "Music, performing and visual arts              153\n",
       "Architecture                                   147\n",
       "Design: product, graphic and fashion design    145\n",
       "Film, TV, video, radio and photography         144\n",
       "Advertising and marketing                      140\n",
       "Publishing                                     123\n",
       "Name: industry, dtype: int64"
      ]
     },
     "execution_count": 110,
     "metadata": {},
     "output_type": "execute_result"
    }
   ],
   "source": [
    "#Load IDBR data for the most recent period\n",
    "\n",
    "#NB this currently are the local units\n",
    "\n",
    "idbr_fe_subs = pd.read_excel(ext_data+'/frontier/spd-creative clusters counts and LQs-13-12-2017 (1).xlsx',\n",
    "                            sheetname=4)\n",
    "\n",
    "idbr_fe_ce = pd.read_excel(ext_data+'/frontier/spd-creative clusters counts and LQs-13-12-2017 (1).xlsx',\n",
    "                            sheetname=3)\n",
    "\n",
    "idbr_fe = pd.concat([idbr_fe_subs,idbr_fe_ce])\n",
    "\n",
    "#We need to do three things: extract subsectoral totals, combine with creative totals and not in sector\n",
    "#totals\n",
    "idbr_fe_means = idbr_fe.groupby(\n",
    "    ['TTWA name','TTWA code','industry'])[['Number of enterprises','Employment']].mean().reset_index(drop=False)\n",
    "\n",
    "\n",
    "#Sector totals\n",
    "idbr_fe_all = idbr_fe.groupby(['TTWA name','TTWA code'])['Total number of enterprises in area',\n",
    "                                          'Total employment in area'].mean().reset_index(drop=False)\n",
    "\n",
    "#Some changes in variables etc to merge without problems\n",
    "idbr_fe_all['industry'] = 'not_creative'\n",
    "\n",
    "idbr_fe_all.rename(columns={'Total employment in area':'Employment',\n",
    "                           'Total number of enterprises in area':'Number of enterprises'},inplace=True)\n",
    "\n",
    "#Combine everything\n",
    "idbr_fe_all_2015_2016 = pd.concat([idbr_fe_means,idbr_fe_all])\n",
    "\n",
    "\n",
    "idbr_fe_all_2015_2016['year'] = '2015_2016'\n",
    "\n",
    "#Rename columns\n",
    "rename_columns(idbr_fe_all_2015_2016,['Employment','Number of enterprises','TTWA code','TTWA name'],\n",
    "              ['employment','business_count','ttwa_code','ttwa_name'])\n",
    "\n",
    "idbr_fe_all_2015_2016.industry.value_counts()"
   ]
  },
  {
   "cell_type": "code",
   "execution_count": 111,
   "metadata": {
    "collapsed": false
   },
   "outputs": [
    {
     "name": "stderr",
     "output_type": "stream",
     "text": [
      "/usr/local/lib/python3.5/site-packages/pandas/util/_decorators.py:118: FutureWarning: The `sheetname` keyword is deprecated, use `sheet_name` instead\n",
      "  return func(*args, **kwargs)\n"
     ]
    }
   ],
   "source": [
    "#NB these are enterprises!\n",
    "#Now we want to load older data (e.g period 2010-14)\n",
    "idbr_fe_old = pd.read_excel(ext_data+'/frontier/'+'spd - data for creative clusters - enterprise unit - 15-02-16.xls',\n",
    "                           sheetname=8,skiprows=2).loc[:,['Industry',\n",
    "                                                          'TTWA 2011 code (last ONS revision Feb 2016)',\n",
    "                                                          'TTWA 2011 name (last ONS revision Feb 2016',\n",
    "                                                          'Business count',\n",
    "                                                          'Employment']]\n",
    "\n",
    "\n",
    "rename_columns(idbr_fe_old,['Industry',\n",
    "                            'TTWA 2011 code (last ONS revision Feb 2016)',\n",
    "                            'TTWA 2011 name (last ONS revision Feb 2016',\n",
    "                            'Business count',\n",
    "                            'Employment'], #Need to change Employment to Average employment\n",
    "               ['industry','ttwa_code','ttwa_name','business_count','employment'])\n",
    "\n",
    "idbr_fe_old['year']='2011_2014'\n",
    "\n",
    "#Now we want to analyse the area totals\n",
    "idbr_fe_totals = pd.read_excel(ext_data+'/frontier/'+'spd - data for creative clusters - enterprise unit - 15-02-16.xls',\n",
    "                           sheetname=8,skiprows=2).iloc[:,1:]\n",
    "\n",
    "\n",
    "idbr_fe_totals = idbr_fe_totals.loc[idbr_fe_totals.Industry=='All creative industries',:].reset_index(drop=True)\n",
    "\n",
    "\n",
    "#We divide the share of a sector in an area by the level of activity in the area\n",
    "idbr_fe_totals['employment'] = idbr_fe_totals['Employment']/idbr_fe_totals[ #Need to change Employment there\n",
    "    'Proportion of local employment in sector']\n",
    "idbr_fe_totals['business_count'] = idbr_fe_totals['Business count']/idbr_fe_totals[\n",
    "    'Proportion of local enterprises in sector']\n",
    "\n",
    "idbr_fe_totals = idbr_fe_totals[['TTWA 2011 code (last ONS revision Feb 2016)',\n",
    "                                 'TTWA 2011 name (last ONS revision Feb 2016',\n",
    "                                 'employment','business_count']]\n",
    "\n",
    "rename_columns(idbr_fe_totals,['TTWA 2011 code (last ONS revision Feb 2016)',\n",
    "                               'TTWA 2011 name (last ONS revision Feb 2016'],\n",
    "               ['ttwa_code','ttwa_name'])\n",
    "\n",
    "idbr_fe_totals['year'] = '2011_2014'\n",
    "idbr_fe_totals['industry'] = 'not_creative'\n",
    "\n",
    "#Now...\n",
    "\n",
    "idbr_fe_all_2011_14 = pd.concat([idbr_fe_old,idbr_fe_totals])\n"
   ]
  },
  {
   "cell_type": "code",
   "execution_count": 112,
   "metadata": {
    "collapsed": false
   },
   "outputs": [
    {
     "data": {
      "text/html": [
       "<div>\n",
       "<style scoped>\n",
       "    .dataframe tbody tr th:only-of-type {\n",
       "        vertical-align: middle;\n",
       "    }\n",
       "\n",
       "    .dataframe tbody tr th {\n",
       "        vertical-align: top;\n",
       "    }\n",
       "\n",
       "    .dataframe thead th {\n",
       "        text-align: right;\n",
       "    }\n",
       "</style>\n",
       "<table border=\"1\" class=\"dataframe\">\n",
       "  <thead>\n",
       "    <tr style=\"text-align: right;\">\n",
       "      <th></th>\n",
       "      <th>business_count</th>\n",
       "      <th>employment</th>\n",
       "      <th>industry</th>\n",
       "      <th>ttwa_code</th>\n",
       "      <th>ttwa_name</th>\n",
       "      <th>year</th>\n",
       "    </tr>\n",
       "  </thead>\n",
       "  <tbody>\n",
       "    <tr>\n",
       "      <th>0</th>\n",
       "      <td>65.0</td>\n",
       "      <td>190.0</td>\n",
       "      <td>Advertising and marketing</td>\n",
       "      <td>S22000047</td>\n",
       "      <td>Aberdeen</td>\n",
       "      <td>2015_2016</td>\n",
       "    </tr>\n",
       "    <tr>\n",
       "      <th>1</th>\n",
       "      <td>1247.5</td>\n",
       "      <td>3635.0</td>\n",
       "      <td>All creative industries</td>\n",
       "      <td>S22000047</td>\n",
       "      <td>Aberdeen</td>\n",
       "      <td>2015_2016</td>\n",
       "    </tr>\n",
       "    <tr>\n",
       "      <th>2</th>\n",
       "      <td>182.5</td>\n",
       "      <td>495.0</td>\n",
       "      <td>Architecture</td>\n",
       "      <td>S22000047</td>\n",
       "      <td>Aberdeen</td>\n",
       "      <td>2015_2016</td>\n",
       "    </tr>\n",
       "    <tr>\n",
       "      <th>3</th>\n",
       "      <td>110.0</td>\n",
       "      <td>205.0</td>\n",
       "      <td>Design: product, graphic and fashion design</td>\n",
       "      <td>S22000047</td>\n",
       "      <td>Aberdeen</td>\n",
       "      <td>2015_2016</td>\n",
       "    </tr>\n",
       "    <tr>\n",
       "      <th>4</th>\n",
       "      <td>82.5</td>\n",
       "      <td>205.0</td>\n",
       "      <td>Film, TV, video, radio and photography</td>\n",
       "      <td>S22000047</td>\n",
       "      <td>Aberdeen</td>\n",
       "      <td>2015_2016</td>\n",
       "    </tr>\n",
       "  </tbody>\n",
       "</table>\n",
       "</div>"
      ],
      "text/plain": [
       "   business_count  employment                                     industry  \\\n",
       "0            65.0       190.0                    Advertising and marketing   \n",
       "1          1247.5      3635.0                      All creative industries   \n",
       "2           182.5       495.0                                 Architecture   \n",
       "3           110.0       205.0  Design: product, graphic and fashion design   \n",
       "4            82.5       205.0       Film, TV, video, radio and photography   \n",
       "\n",
       "   ttwa_code ttwa_name       year  \n",
       "0  S22000047  Aberdeen  2015_2016  \n",
       "1  S22000047  Aberdeen  2015_2016  \n",
       "2  S22000047  Aberdeen  2015_2016  \n",
       "3  S22000047  Aberdeen  2015_2016  \n",
       "4  S22000047  Aberdeen  2015_2016  "
      ]
     },
     "execution_count": 112,
     "metadata": {},
     "output_type": "execute_result"
    }
   ],
   "source": [
    "#Combine everything\n",
    "\n",
    "idbr_fe_out = pd.concat([idbr_fe_all_2015_2016,idbr_fe_all_2011_14]).reset_index(drop=True)\n",
    "\n",
    "idbr_fe_out.head()"
   ]
  },
  {
   "cell_type": "code",
   "execution_count": 113,
   "metadata": {
    "collapsed": false
   },
   "outputs": [],
   "source": [
    "idbr_fe_out.to_csv(ext_data+'/frontier/{date}_idbr_frontier.csv'.format(date=today_str),index=False)"
   ]
  },
  {
   "cell_type": "code",
   "execution_count": 114,
   "metadata": {
    "collapsed": false
   },
   "outputs": [
    {
     "data": {
      "text/plain": [
       "2011_2014    2042\n",
       "2015_2016    1456\n",
       "Name: year, dtype: int64"
      ]
     },
     "execution_count": 114,
     "metadata": {},
     "output_type": "execute_result"
    }
   ],
   "source": [
    "idbr_fe_out.year.value_counts()"
   ]
  },
  {
   "cell_type": "code",
   "execution_count": 115,
   "metadata": {
    "collapsed": false
   },
   "outputs": [
    {
     "name": "stdout",
     "output_type": "stream",
     "text": [
      "Architecture\n",
      "IT, software and computer services\n",
      "All creative industries\n",
      "Music, performing and visual arts\n",
      "not_creative\n",
      "Advertising and marketing\n",
      "Publishing\n",
      "Film, TV, video, radio and photography\n",
      "Design: product, graphic and fashion design\n"
     ]
    },
    {
     "data": {
      "image/png": "[encoded data removed]",
      "text/plain": [
       "<matplotlib.figure.Figure at 0x10efa4470>"
      ]
     },
     "metadata": {},
     "output_type": "display_data"
    }
   ],
   "source": [
    "fig, ax = plt.subplots(nrows=len(set(idbr_fe_out.industry)),ncols=2,figsize=(15,20))\n",
    "\n",
    "\n",
    "for num,x in enumerate(set(idbr_fe_out.industry)):\n",
    "    print(x)\n",
    "    \n",
    "    data = idbr_fe_out.loc[idbr_fe_out.industry==x,:]\n",
    "    \n",
    "    ax[num][0].scatter(data.loc[data.year=='2011_2014',\n",
    "                             'employment'],\n",
    "                    data.loc[data.year=='2011_2014',\n",
    "                             'business_count'],alpha=0.7)\n",
    "    \n",
    "    ax[num][0].set_title(x)\n",
    "    \n",
    "    ax[num][1].scatter(data.loc[data.year=='2015_2016',\n",
    "                             'employment'],\n",
    "                    data.loc[data.year=='2015_2016',\n",
    "                             'business_count'],alpha=0.7)\n",
    "    \n",
    "    \n",
    "plt.tight_layout()"
   ]
  },
  {
   "cell_type": "code",
   "execution_count": 116,
   "metadata": {
    "collapsed": false
   },
   "outputs": [
    {
     "name": "stdout",
     "output_type": "stream",
     "text": [
      "Architecture\n",
      "IT, software and computer services\n",
      "All creative industries\n",
      "Music, performing and visual arts\n",
      "not_creative\n",
      "Advertising and marketing\n",
      "Publishing\n",
      "Film, TV, video, radio and photography\n",
      "Design: product, graphic and fashion design\n"
     ]
    },
    {
     "data": {
      "image/png": "[encoded data removed]",
      "text/plain": [
       "<matplotlib.figure.Figure at 0x10f039dd8>"
      ]
     },
     "metadata": {},
     "output_type": "display_data"
    }
   ],
   "source": [
    "fig, ax = plt.subplots(nrows=len(set(idbr_fe_out.industry)),ncols=2,figsize=(15,20))\n",
    "\n",
    "\n",
    "for num,x in enumerate(set(idbr_fe_out.industry)):\n",
    "    print(x)\n",
    "    \n",
    "    data = idbr_fe_out.loc[idbr_fe_out.industry==x,:]\n",
    "    \n",
    "    emp_data = pd.pivot_table(data,index='ttwa_name',columns='year',values='employment').dropna()\n",
    "    \n",
    "    ax[num][0].scatter(emp_data['2011_2014'],emp_data['2015_2016'],alpha=0.7)\n",
    "    \n",
    "    ax[num][0].set_title(x)\n",
    "    \n",
    "    bc_data = pd.pivot_table(data,index='ttwa_name',columns='year',values='business_count').dropna()\n",
    "    \n",
    "    ax[num][1].scatter(bc_data['2011_2014'],bc_data['2015_2016'],alpha=0.7)\n",
    "    \n",
    "plt.tight_layout()"
   ]
  },
  {
   "cell_type": "code",
   "execution_count": 117,
   "metadata": {
    "collapsed": false
   },
   "outputs": [
    {
     "data": {
      "text/html": [
       "<div>\n",
       "<style scoped>\n",
       "    .dataframe tbody tr th:only-of-type {\n",
       "        vertical-align: middle;\n",
       "    }\n",
       "\n",
       "    .dataframe tbody tr th {\n",
       "        vertical-align: top;\n",
       "    }\n",
       "\n",
       "    .dataframe thead th {\n",
       "        text-align: right;\n",
       "    }\n",
       "</style>\n",
       "<table border=\"1\" class=\"dataframe\">\n",
       "  <thead>\n",
       "    <tr style=\"text-align: right;\">\n",
       "      <th>year</th>\n",
       "      <th>2011_2014</th>\n",
       "      <th>2015_2016</th>\n",
       "      <th>gr</th>\n",
       "    </tr>\n",
       "    <tr>\n",
       "      <th>ttwa_name</th>\n",
       "      <th></th>\n",
       "      <th></th>\n",
       "      <th></th>\n",
       "    </tr>\n",
       "  </thead>\n",
       "  <tbody>\n",
       "    <tr>\n",
       "      <th>Swansea</th>\n",
       "      <td>98.50</td>\n",
       "      <td>210.0</td>\n",
       "      <td>2.131980</td>\n",
       "    </tr>\n",
       "    <tr>\n",
       "      <th>King's Lynn</th>\n",
       "      <td>48.50</td>\n",
       "      <td>100.0</td>\n",
       "      <td>2.061856</td>\n",
       "    </tr>\n",
       "    <tr>\n",
       "      <th>Harrogate</th>\n",
       "      <td>177.00</td>\n",
       "      <td>290.0</td>\n",
       "      <td>1.638418</td>\n",
       "    </tr>\n",
       "    <tr>\n",
       "      <th>Newry and Banbridge</th>\n",
       "      <td>43.25</td>\n",
       "      <td>70.0</td>\n",
       "      <td>1.618497</td>\n",
       "    </tr>\n",
       "    <tr>\n",
       "      <th>Kingsbridge and Dartmouth</th>\n",
       "      <td>22.00</td>\n",
       "      <td>35.0</td>\n",
       "      <td>1.590909</td>\n",
       "    </tr>\n",
       "    <tr>\n",
       "      <th>Evesham</th>\n",
       "      <td>74.50</td>\n",
       "      <td>115.0</td>\n",
       "      <td>1.543624</td>\n",
       "    </tr>\n",
       "    <tr>\n",
       "      <th>Banbury</th>\n",
       "      <td>134.50</td>\n",
       "      <td>200.0</td>\n",
       "      <td>1.486989</td>\n",
       "    </tr>\n",
       "    <tr>\n",
       "      <th>Dundee</th>\n",
       "      <td>135.75</td>\n",
       "      <td>200.0</td>\n",
       "      <td>1.473297</td>\n",
       "    </tr>\n",
       "    <tr>\n",
       "      <th>Redruth and Truro</th>\n",
       "      <td>110.25</td>\n",
       "      <td>160.0</td>\n",
       "      <td>1.451247</td>\n",
       "    </tr>\n",
       "    <tr>\n",
       "      <th>Canterbury</th>\n",
       "      <td>224.75</td>\n",
       "      <td>325.0</td>\n",
       "      <td>1.446051</td>\n",
       "    </tr>\n",
       "    <tr>\n",
       "      <th>Torquay and Paignton</th>\n",
       "      <td>48.75</td>\n",
       "      <td>70.0</td>\n",
       "      <td>1.435897</td>\n",
       "    </tr>\n",
       "    <tr>\n",
       "      <th>Guildford and Aldershot</th>\n",
       "      <td>825.50</td>\n",
       "      <td>1175.0</td>\n",
       "      <td>1.423380</td>\n",
       "    </tr>\n",
       "    <tr>\n",
       "      <th>Worthing</th>\n",
       "      <td>116.25</td>\n",
       "      <td>165.0</td>\n",
       "      <td>1.419355</td>\n",
       "    </tr>\n",
       "    <tr>\n",
       "      <th>Dunfermline and Kirkcaldy</th>\n",
       "      <td>60.25</td>\n",
       "      <td>85.0</td>\n",
       "      <td>1.410788</td>\n",
       "    </tr>\n",
       "    <tr>\n",
       "      <th>Andover</th>\n",
       "      <td>78.00</td>\n",
       "      <td>110.0</td>\n",
       "      <td>1.410256</td>\n",
       "    </tr>\n",
       "    <tr>\n",
       "      <th>Halifax</th>\n",
       "      <td>135.50</td>\n",
       "      <td>190.0</td>\n",
       "      <td>1.402214</td>\n",
       "    </tr>\n",
       "    <tr>\n",
       "      <th>Luton</th>\n",
       "      <td>671.00</td>\n",
       "      <td>910.0</td>\n",
       "      <td>1.356185</td>\n",
       "    </tr>\n",
       "    <tr>\n",
       "      <th>Skipton</th>\n",
       "      <td>59.25</td>\n",
       "      <td>80.0</td>\n",
       "      <td>1.350211</td>\n",
       "    </tr>\n",
       "    <tr>\n",
       "      <th>Grantham</th>\n",
       "      <td>48.50</td>\n",
       "      <td>65.0</td>\n",
       "      <td>1.340206</td>\n",
       "    </tr>\n",
       "    <tr>\n",
       "      <th>Kettering and Wellingborough</th>\n",
       "      <td>160.75</td>\n",
       "      <td>215.0</td>\n",
       "      <td>1.337481</td>\n",
       "    </tr>\n",
       "    <tr>\n",
       "      <th>Wadebridge</th>\n",
       "      <td>22.50</td>\n",
       "      <td>30.0</td>\n",
       "      <td>1.333333</td>\n",
       "    </tr>\n",
       "    <tr>\n",
       "      <th>Weston-super-Mare</th>\n",
       "      <td>56.75</td>\n",
       "      <td>75.0</td>\n",
       "      <td>1.321586</td>\n",
       "    </tr>\n",
       "    <tr>\n",
       "      <th>Leeds</th>\n",
       "      <td>626.50</td>\n",
       "      <td>820.0</td>\n",
       "      <td>1.308859</td>\n",
       "    </tr>\n",
       "    <tr>\n",
       "      <th>Crewe</th>\n",
       "      <td>198.75</td>\n",
       "      <td>260.0</td>\n",
       "      <td>1.308176</td>\n",
       "    </tr>\n",
       "    <tr>\n",
       "      <th>Shrewsbury</th>\n",
       "      <td>49.75</td>\n",
       "      <td>65.0</td>\n",
       "      <td>1.306533</td>\n",
       "    </tr>\n",
       "    <tr>\n",
       "      <th>Nottingham</th>\n",
       "      <td>586.25</td>\n",
       "      <td>765.0</td>\n",
       "      <td>1.304904</td>\n",
       "    </tr>\n",
       "    <tr>\n",
       "      <th>Telford</th>\n",
       "      <td>73.50</td>\n",
       "      <td>95.0</td>\n",
       "      <td>1.292517</td>\n",
       "    </tr>\n",
       "    <tr>\n",
       "      <th>Durham and Bishop Auckland</th>\n",
       "      <td>46.75</td>\n",
       "      <td>60.0</td>\n",
       "      <td>1.283422</td>\n",
       "    </tr>\n",
       "    <tr>\n",
       "      <th>Kendal</th>\n",
       "      <td>35.25</td>\n",
       "      <td>45.0</td>\n",
       "      <td>1.276596</td>\n",
       "    </tr>\n",
       "    <tr>\n",
       "      <th>Leicester</th>\n",
       "      <td>940.00</td>\n",
       "      <td>1200.0</td>\n",
       "      <td>1.276596</td>\n",
       "    </tr>\n",
       "    <tr>\n",
       "      <th>...</th>\n",
       "      <td>...</td>\n",
       "      <td>...</td>\n",
       "      <td>...</td>\n",
       "    </tr>\n",
       "    <tr>\n",
       "      <th>Leamington Spa</th>\n",
       "      <td>472.50</td>\n",
       "      <td>480.0</td>\n",
       "      <td>1.015873</td>\n",
       "    </tr>\n",
       "    <tr>\n",
       "      <th>Oxford</th>\n",
       "      <td>644.75</td>\n",
       "      <td>650.0</td>\n",
       "      <td>1.008143</td>\n",
       "    </tr>\n",
       "    <tr>\n",
       "      <th>Colchester</th>\n",
       "      <td>185.25</td>\n",
       "      <td>185.0</td>\n",
       "      <td>0.998650</td>\n",
       "    </tr>\n",
       "    <tr>\n",
       "      <th>Bradford</th>\n",
       "      <td>388.75</td>\n",
       "      <td>385.0</td>\n",
       "      <td>0.990354</td>\n",
       "    </tr>\n",
       "    <tr>\n",
       "      <th>Bridgend</th>\n",
       "      <td>75.75</td>\n",
       "      <td>75.0</td>\n",
       "      <td>0.990099</td>\n",
       "    </tr>\n",
       "    <tr>\n",
       "      <th>Hereford</th>\n",
       "      <td>96.00</td>\n",
       "      <td>95.0</td>\n",
       "      <td>0.989583</td>\n",
       "    </tr>\n",
       "    <tr>\n",
       "      <th>Birkenhead</th>\n",
       "      <td>111.25</td>\n",
       "      <td>110.0</td>\n",
       "      <td>0.988764</td>\n",
       "    </tr>\n",
       "    <tr>\n",
       "      <th>Motherwell and Airdrie</th>\n",
       "      <td>106.25</td>\n",
       "      <td>105.0</td>\n",
       "      <td>0.988235</td>\n",
       "    </tr>\n",
       "    <tr>\n",
       "      <th>Stafford</th>\n",
       "      <td>55.75</td>\n",
       "      <td>55.0</td>\n",
       "      <td>0.986547</td>\n",
       "    </tr>\n",
       "    <tr>\n",
       "      <th>Aberdeen</th>\n",
       "      <td>210.75</td>\n",
       "      <td>205.0</td>\n",
       "      <td>0.972716</td>\n",
       "    </tr>\n",
       "    <tr>\n",
       "      <th>Grimsby</th>\n",
       "      <td>62.75</td>\n",
       "      <td>60.0</td>\n",
       "      <td>0.956175</td>\n",
       "    </tr>\n",
       "    <tr>\n",
       "      <th>Plymouth</th>\n",
       "      <td>158.50</td>\n",
       "      <td>150.0</td>\n",
       "      <td>0.946372</td>\n",
       "    </tr>\n",
       "    <tr>\n",
       "      <th>Chesterfield</th>\n",
       "      <td>90.00</td>\n",
       "      <td>85.0</td>\n",
       "      <td>0.944444</td>\n",
       "    </tr>\n",
       "    <tr>\n",
       "      <th>Trowbridge</th>\n",
       "      <td>178.00</td>\n",
       "      <td>165.0</td>\n",
       "      <td>0.926966</td>\n",
       "    </tr>\n",
       "    <tr>\n",
       "      <th>Barrow-in-Furness</th>\n",
       "      <td>38.00</td>\n",
       "      <td>35.0</td>\n",
       "      <td>0.921053</td>\n",
       "    </tr>\n",
       "    <tr>\n",
       "      <th>Merthyr Tydfil</th>\n",
       "      <td>54.50</td>\n",
       "      <td>50.0</td>\n",
       "      <td>0.917431</td>\n",
       "    </tr>\n",
       "    <tr>\n",
       "      <th>High Wycombe and Aylesbury</th>\n",
       "      <td>514.00</td>\n",
       "      <td>470.0</td>\n",
       "      <td>0.914397</td>\n",
       "    </tr>\n",
       "    <tr>\n",
       "      <th>Blackburn</th>\n",
       "      <td>208.50</td>\n",
       "      <td>190.0</td>\n",
       "      <td>0.911271</td>\n",
       "    </tr>\n",
       "    <tr>\n",
       "      <th>Worcester and Kidderminster</th>\n",
       "      <td>225.25</td>\n",
       "      <td>205.0</td>\n",
       "      <td>0.910100</td>\n",
       "    </tr>\n",
       "    <tr>\n",
       "      <th>Burton upon Trent</th>\n",
       "      <td>122.25</td>\n",
       "      <td>110.0</td>\n",
       "      <td>0.899796</td>\n",
       "    </tr>\n",
       "    <tr>\n",
       "      <th>Chester</th>\n",
       "      <td>139.75</td>\n",
       "      <td>125.0</td>\n",
       "      <td>0.894454</td>\n",
       "    </tr>\n",
       "    <tr>\n",
       "      <th>Darlington</th>\n",
       "      <td>56.00</td>\n",
       "      <td>50.0</td>\n",
       "      <td>0.892857</td>\n",
       "    </tr>\n",
       "    <tr>\n",
       "      <th>Llanelli</th>\n",
       "      <td>45.25</td>\n",
       "      <td>40.0</td>\n",
       "      <td>0.883978</td>\n",
       "    </tr>\n",
       "    <tr>\n",
       "      <th>Reading</th>\n",
       "      <td>696.75</td>\n",
       "      <td>615.0</td>\n",
       "      <td>0.882670</td>\n",
       "    </tr>\n",
       "    <tr>\n",
       "      <th>Stoke-on-Trent</th>\n",
       "      <td>184.25</td>\n",
       "      <td>160.0</td>\n",
       "      <td>0.868385</td>\n",
       "    </tr>\n",
       "    <tr>\n",
       "      <th>Thetford and Mildenhall</th>\n",
       "      <td>41.50</td>\n",
       "      <td>35.0</td>\n",
       "      <td>0.843373</td>\n",
       "    </tr>\n",
       "    <tr>\n",
       "      <th>Blyth and Ashington</th>\n",
       "      <td>54.25</td>\n",
       "      <td>45.0</td>\n",
       "      <td>0.829493</td>\n",
       "    </tr>\n",
       "    <tr>\n",
       "      <th>Mansfield</th>\n",
       "      <td>152.50</td>\n",
       "      <td>120.0</td>\n",
       "      <td>0.786885</td>\n",
       "    </tr>\n",
       "    <tr>\n",
       "      <th>Carlisle</th>\n",
       "      <td>41.50</td>\n",
       "      <td>30.0</td>\n",
       "      <td>0.722892</td>\n",
       "    </tr>\n",
       "    <tr>\n",
       "      <th>Galashiels and Peebles</th>\n",
       "      <td>141.75</td>\n",
       "      <td>100.0</td>\n",
       "      <td>0.705467</td>\n",
       "    </tr>\n",
       "  </tbody>\n",
       "</table>\n",
       "<p>145 rows × 3 columns</p>\n",
       "</div>"
      ],
      "text/plain": [
       "year                          2011_2014  2015_2016        gr\n",
       "ttwa_name                                                   \n",
       "Swansea                           98.50      210.0  2.131980\n",
       "King's Lynn                       48.50      100.0  2.061856\n",
       "Harrogate                        177.00      290.0  1.638418\n",
       "Newry and Banbridge               43.25       70.0  1.618497\n",
       "Kingsbridge and Dartmouth         22.00       35.0  1.590909\n",
       "Evesham                           74.50      115.0  1.543624\n",
       "Banbury                          134.50      200.0  1.486989\n",
       "Dundee                           135.75      200.0  1.473297\n",
       "Redruth and Truro                110.25      160.0  1.451247\n",
       "Canterbury                       224.75      325.0  1.446051\n",
       "Torquay and Paignton              48.75       70.0  1.435897\n",
       "Guildford and Aldershot          825.50     1175.0  1.423380\n",
       "Worthing                         116.25      165.0  1.419355\n",
       "Dunfermline and Kirkcaldy         60.25       85.0  1.410788\n",
       "Andover                           78.00      110.0  1.410256\n",
       "Halifax                          135.50      190.0  1.402214\n",
       "Luton                            671.00      910.0  1.356185\n",
       "Skipton                           59.25       80.0  1.350211\n",
       "Grantham                          48.50       65.0  1.340206\n",
       "Kettering and Wellingborough     160.75      215.0  1.337481\n",
       "Wadebridge                        22.50       30.0  1.333333\n",
       "Weston-super-Mare                 56.75       75.0  1.321586\n",
       "Leeds                            626.50      820.0  1.308859\n",
       "Crewe                            198.75      260.0  1.308176\n",
       "Shrewsbury                        49.75       65.0  1.306533\n",
       "Nottingham                       586.25      765.0  1.304904\n",
       "Telford                           73.50       95.0  1.292517\n",
       "Durham and Bishop Auckland        46.75       60.0  1.283422\n",
       "Kendal                            35.25       45.0  1.276596\n",
       "Leicester                        940.00     1200.0  1.276596\n",
       "...                                 ...        ...       ...\n",
       "Leamington Spa                   472.50      480.0  1.015873\n",
       "Oxford                           644.75      650.0  1.008143\n",
       "Colchester                       185.25      185.0  0.998650\n",
       "Bradford                         388.75      385.0  0.990354\n",
       "Bridgend                          75.75       75.0  0.990099\n",
       "Hereford                          96.00       95.0  0.989583\n",
       "Birkenhead                       111.25      110.0  0.988764\n",
       "Motherwell and Airdrie           106.25      105.0  0.988235\n",
       "Stafford                          55.75       55.0  0.986547\n",
       "Aberdeen                         210.75      205.0  0.972716\n",
       "Grimsby                           62.75       60.0  0.956175\n",
       "Plymouth                         158.50      150.0  0.946372\n",
       "Chesterfield                      90.00       85.0  0.944444\n",
       "Trowbridge                       178.00      165.0  0.926966\n",
       "Barrow-in-Furness                 38.00       35.0  0.921053\n",
       "Merthyr Tydfil                    54.50       50.0  0.917431\n",
       "High Wycombe and Aylesbury       514.00      470.0  0.914397\n",
       "Blackburn                        208.50      190.0  0.911271\n",
       "Worcester and Kidderminster      225.25      205.0  0.910100\n",
       "Burton upon Trent                122.25      110.0  0.899796\n",
       "Chester                          139.75      125.0  0.894454\n",
       "Darlington                        56.00       50.0  0.892857\n",
       "Llanelli                          45.25       40.0  0.883978\n",
       "Reading                          696.75      615.0  0.882670\n",
       "Stoke-on-Trent                   184.25      160.0  0.868385\n",
       "Thetford and Mildenhall           41.50       35.0  0.843373\n",
       "Blyth and Ashington               54.25       45.0  0.829493\n",
       "Mansfield                        152.50      120.0  0.786885\n",
       "Carlisle                          41.50       30.0  0.722892\n",
       "Galashiels and Peebles           141.75      100.0  0.705467\n",
       "\n",
       "[145 rows x 3 columns]"
      ]
     },
     "execution_count": 117,
     "metadata": {},
     "output_type": "execute_result"
    }
   ],
   "source": [
    "it = idbr_fe_out.loc[idbr_fe_out.industry=='All creative industries',:]\n",
    "\n",
    "\n",
    "it_emp_data = pd.pivot_table(data,index='ttwa_name',columns='year',values='employment').dropna()\n",
    "\n",
    "it_emp_data['gr']=it_emp_data['2015_2016']/it_emp_data['2011_2014']\n",
    "\n",
    "it_emp_data.sort_values('gr',ascending=False)"
   ]
  },
  {
   "cell_type": "markdown",
   "metadata": {},
   "source": [
    "### Extract IDBR data"
   ]
  },
  {
   "cell_type": "code",
   "execution_count": null,
   "metadata": {
    "collapsed": true
   },
   "outputs": [],
   "source": [
    "#We use the Nomis API\n",
    "#Our queries return more results than Nomis can handle so we will have to split them.\n",
    "\n",
    "#First we extract data by year and sic code. \n",
    "\n",
    "all_sizes_link = 'http://www.nomisweb.co.uk/api/v01/dataset/NM_141_1.data.csv?geography=1874854111,1874853904,1874853931,1874853936,1874853949,1874853952,1874853980,1874853984,1874854016,1874853894,1874853899,1874853901,1874853902,1874853914,1874854112,1874854113,1874853929,1874853959,1874853963,1874853970,1874853976,1874853990,1874853996,1874854026,1874854029,1874854033,1874853892,1874853907,1874853909,1874853933,1874853945,1874853947,1874853948,1874853954,1874853955,1874853966,1874853975,1874853985,1874854000...1874854002,1874854006,1874854025,1874854028,1874854037,1874853905,1874853917,1874853922,1874853926,1874853932,1874853943,1874853960,1874853967,1874853968,1874853977,1874853986,1874853988,1874854005,1874854010,1874854034,1874853900,1874853915,1874853927,1874853935,1874853951,1874853965,1874853973,1874854116,1874854003,1874854012,1874854014,1874854019,1874854031,1874854032,1874853897,1874853916,1874853918,1874853920,1874853924,1874853925,1874853930,1874853944,1874853956,1874853957,1874853961,1874853972,1874853974,1874853987,1874853992,1874854009,1874854013,1874854020,1874854030,1874853971,1874853889...1874853891,1874853895,1874853911,1874853919,1874853923,1874853928,1874853937,1874853941,1874853946,1874853950,1874853953,1874853958,1874853978,1874853979,1874853981,1874853983,1874853989,1874853995,1874853997,1874854007,1874854008,1874854023,1874854035,1874853893,1874853896,1874853898,1874853903,1874853906,1874853908,1874853910,1874853912,1874853913,1874853921,1874854114,1874853934,1874853938...1874853940,1874853942,1874853962,1874853964,1874853969,1874853982,1874853991,1874853993,1874853994,1874853998,1874853999,1874854004,1874854011,1874854015,1874854017,1874854018,1874854021,1874854022,1874854024,1874854027,1874854036,1874854038...1874854048,1874854115,1874854049...1874854069,1874854071...1874854099,1874854070,1874854100...1874854110&date=latestMINUS1-latest&industry=138412132,138412143...138412148,138412151,138412153...138412162,138412173...138412179,138412181,138412182,138412193...138412196,138412202,138412242,138412252,138412262,138412272,138412343,138412344,138412353,138412354,138412542,138412552,138412642,138412652,138412742,138412753,138412761,138412843,138412844,138412923...138412925,138412931,138412942,138413022,138413043...138413045,138413052,138413063,138413064,138413071,138413073,138413074,138413083,138413084,138413093,138413094,138413103...138413105,138413113...138413118,138413121,138413123,138413124,138413133...138413139,138413232,138413342,138413352,138413362,138413423...138413428,138413431,138413443...138413446,138413451,138413452,138413463,138413471,138413543,138413544,138413552,138413642,138413653...138413656,138413661,138413743,138413744,138413753...138413756,138413761,138413843...138413846,138413852,138413942,138413952,138414043...138414049,138414052,138414062,138414073,138414074,138414083...138414085,138414091,138414092,138414142,138414152,138414243,138414251,138414253...138414255,138414261,138414343...138414346,138414351,138414352,138414363,138414364,138414373...138414376,138414381,138414383,138414384,138414393...138414397,138414401,138414402,138414423,138414431,138414442,138414452,138414463...138414466,138414473...138414478,138414483...138414486,138414543,138414544,138414553,138414561,138414562,138414572,138414582,138414593,138414594,138414603...138414605,138414623...138414626,138414631,138414643,138414644,138414652,138414662,138414672,138414683,138414684,138414692,138414702,138414712,138414743,138414744,138414752,138414763...138414765,138414772,138414783,138414784,138414822,138414843...138414847,138414853...138414857,138414861,138414862,138414873,138414881,138414923...138414928,138414931,138414942,138414952,138414963,138414964,138415043,138415044,138415052,138415062,138415072,138415123,138415124,138415131,138415133...138415135,138415141,138415243...138415245,138415252,138415262,138415272,138415282,138415323,138415331,138415343...138415349,138415351,138415352,138415543...138415546,138415553...138415555,138415562,138415632,138415732,138415843,138415844,138415853,138415854,138415863,138415864,138415932,138416142,138416152,138416243...138416245,138416253,138416254,138416323,138416331,138416343...138416345,138416353,138416354,138416361,138416363...138416366,138416371,138416423,138416431,138416543,138416551,138416552,138416563,138416564,138416572,138416643...138416651,138416653...138416656,138416663...138416671,138416673...138416681,138416683,138416684,138416693...138416698,138416701,138416703...138416709,138416722,138416743,138416751,138416753...138416758,138416761,138416762,138416773...138416775,138416783...138416786,138416791,138416793...138416797,138416803...138416811,138416813,138416814,138416821,138416823,138416831,138416942,138416952,138416963,138416964,138416971,138416973,138416974,138416982,138417042,138417052,138417062,138417072,138417142,138417153,138417154,138417242,138417253...138417256,138417261,138417342,138417352,138417542,138417552,138417562,138417622,138417642,138417653,138417661,138417662,138417843...138417846,138417851,138417853,138417861,138417943...138417946,138417952,138418042,138418052,138418142,138418152,138418162,138418222,138418233...138418235,138418241,138418343,138418344,138418423,138418431,138418443,138418451,138418452,138418462,138418523,138418524,138418531,138418543,138418544,138418552,138418562,138418643,138418644,138418651,138418653,138418654,138418661,138418662,138418842,138418852,138418863,138418864,138418942,138418952,138419042,138419053,138419054,138419143,138419144,138419152,138419243,138419251,138419252,138419343,138419344,138419352,138419442,138419452,138419462,138419522,138419532,138419743,138419744,138419753,138419754,138419761,138419763...138419767,138419771,138419772,138419842,138419852,138419862,138419943,138419944,138420022,138420042,138420052,138420062,138420142,138420153,138420154,138420161,138420162,138420243,138420251,138420252,138420262,138420323,138420324,138420331,138420443...138420445,138420453...138420457,138420462,138420542,138420552,138420563,138420564,138420573,138420574,138420583...138420585,138420591,138420592,138420642,138420653...138420655,138420722,138420742,138420752,138420762,138420822,138420842,138420923,138420931,138421033...138421036,138421133...138421136,138421232,138421343...138421345,138421351,138421353,138421361,138421443,138421444,138421452,138421523,138421524,138421531,138421543,138421544,138421553...138421557,138421561,138421633...138421636,138421641,138421732,138421842,138421852,138421932&employment_sizeband=0&legal_status=0&measures=20100&select=date_name,geography_name,geography_code,industry_name,employment_sizeband_name,legal_status_name,measures_name,obs_value,obs_status_name'"
   ]
  },
  {
   "cell_type": "code",
   "execution_count": 7,
   "metadata": {
    "collapsed": false
   },
   "outputs": [
    {
     "name": "stdout",
     "output_type": "stream",
     "text": [
      "280896\n",
      "255896\n",
      "230896\n",
      "205896\n",
      "180896\n",
      "155896\n",
      "130896\n",
      "105896\n",
      "80896\n",
      "55896\n",
      "30896\n",
      "5896\n"
     ]
    }
   ],
   "source": [
    "all_sizes_activity = QueryNomis(link=all_sizes_link,total_records=280896)\n",
    "all_sizes_activity.query_nomis()"
   ]
  },
  {
   "cell_type": "code",
   "execution_count": 8,
   "metadata": {
    "collapsed": false
   },
   "outputs": [],
   "source": [
    "idbr_total_df = all_sizes_activity.output_data"
   ]
  },
  {
   "cell_type": "code",
   "execution_count": 9,
   "metadata": {
    "collapsed": false
   },
   "outputs": [
    {
     "name": "stdout",
     "output_type": "stream",
     "text": [
      "561792\n",
      "536792\n",
      "511792\n",
      "486792\n",
      "461792\n",
      "436792\n",
      "411792\n",
      "386792\n",
      "361792\n",
      "336792\n",
      "311792\n",
      "286792\n",
      "261792\n",
      "236792\n",
      "211792\n",
      "186792\n",
      "161792\n",
      "136792\n",
      "111792\n",
      "86792\n",
      "61792\n",
      "36792\n",
      "11792\n"
     ]
    }
   ],
   "source": [
    "#This is the link for the 2016 data with sizebands\n",
    "sizes_2016_link = \"http://www.nomisweb.co.uk/api/v01/dataset/NM_141_1.data.csv?geography=1874854111,1874853904,1874853931,1874853936,1874853949,1874853952,1874853980,1874853984,1874854016,1874853894,1874853899,1874853901,1874853902,1874853914,1874854112,1874854113,1874853929,1874853959,1874853963,1874853970,1874853976,1874853990,1874853996,1874854026,1874854029,1874854033,1874853892,1874853907,1874853909,1874853933,1874853945,1874853947,1874853948,1874853954,1874853955,1874853966,1874853975,1874853985,1874854000...1874854002,1874854006,1874854025,1874854028,1874854037,1874853905,1874853917,1874853922,1874853926,1874853932,1874853943,1874853960,1874853967,1874853968,1874853977,1874853986,1874853988,1874854005,1874854010,1874854034,1874853900,1874853915,1874853927,1874853935,1874853951,1874853965,1874853973,1874854116,1874854003,1874854012,1874854014,1874854019,1874854031,1874854032,1874853897,1874853916,1874853918,1874853920,1874853924,1874853925,1874853930,1874853944,1874853956,1874853957,1874853961,1874853972,1874853974,1874853987,1874853992,1874854009,1874854013,1874854020,1874854030,1874853971,1874853889...1874853891,1874853895,1874853911,1874853919,1874853923,1874853928,1874853937,1874853941,1874853946,1874853950,1874853953,1874853958,1874853978,1874853979,1874853981,1874853983,1874853989,1874853995,1874853997,1874854007,1874854008,1874854023,1874854035,1874853893,1874853896,1874853898,1874853903,1874853906,1874853908,1874853910,1874853912,1874853913,1874853921,1874854114,1874853934,1874853938...1874853940,1874853942,1874853962,1874853964,1874853969,1874853982,1874853991,1874853993,1874853994,1874853998,1874853999,1874854004,1874854011,1874854015,1874854017,1874854018,1874854021,1874854022,1874854024,1874854027,1874854036,1874854038...1874854048,1874854115,1874854049...1874854069,1874854071...1874854099,1874854070,1874854100...1874854110&date=latestMINUS1&industry=138412132,138412143...138412148,138412151,138412153...138412162,138412173...138412179,138412181,138412182,138412193...138412196,138412202,138412242,138412252,138412262,138412272,138412343,138412344,138412353,138412354,138412542,138412552,138412642,138412652,138412742,138412753,138412761,138412843,138412844,138412923...138412925,138412931,138412942,138413022,138413043...138413045,138413052,138413063,138413064,138413071,138413073,138413074,138413083,138413084,138413093,138413094,138413103...138413105,138413113...138413118,138413121,138413123,138413124,138413133...138413139,138413232,138413342,138413352,138413362,138413423...138413428,138413431,138413443...138413446,138413451,138413452,138413463,138413471,138413543,138413544,138413552,138413642,138413653...138413656,138413661,138413743,138413744,138413753...138413756,138413761,138413843...138413846,138413852,138413942,138413952,138414043...138414049,138414052,138414062,138414073,138414074,138414083...138414085,138414091,138414092,138414142,138414152,138414243,138414251,138414253...138414255,138414261,138414343...138414346,138414351,138414352,138414363,138414364,138414373...138414376,138414381,138414383,138414384,138414393...138414397,138414401,138414402,138414423,138414431,138414442,138414452,138414463...138414466,138414473...138414478,138414483...138414486,138414543,138414544,138414553,138414561,138414562,138414572,138414582,138414593,138414594,138414603...138414605,138414623...138414626,138414631,138414643,138414644,138414652,138414662,138414672,138414683,138414684,138414692,138414702,138414712,138414743,138414744,138414752,138414763...138414765,138414772,138414783,138414784,138414822,138414843...138414847,138414853...138414857,138414861,138414862,138414873,138414881,138414923...138414928,138414931,138414942,138414952,138414963,138414964,138415043,138415044,138415052,138415062,138415072,138415123,138415124,138415131,138415133...138415135,138415141,138415243...138415245,138415252,138415262,138415272,138415282,138415323,138415331,138415343...138415349,138415351,138415352,138415543...138415546,138415553...138415555,138415562,138415632,138415732,138415843,138415844,138415853,138415854,138415863,138415864,138415932,138416142,138416152,138416243...138416245,138416253,138416254,138416323,138416331,138416343...138416345,138416353,138416354,138416361,138416363...138416366,138416371,138416423,138416431,138416543,138416551,138416552,138416563,138416564,138416572,138416643...138416651,138416653...138416656,138416663...138416671,138416673...138416681,138416683,138416684,138416693...138416698,138416701,138416703...138416709,138416722,138416743,138416751,138416753...138416758,138416761,138416762,138416773...138416775,138416783...138416786,138416791,138416793...138416797,138416803...138416811,138416813,138416814,138416821,138416823,138416831,138416942,138416952,138416963,138416964,138416971,138416973,138416974,138416982,138417042,138417052,138417062,138417072,138417142,138417153,138417154,138417242,138417253...138417256,138417261,138417342,138417352,138417542,138417552,138417562,138417622,138417642,138417653,138417661,138417662,138417843...138417846,138417851,138417853,138417861,138417943...138417946,138417952,138418042,138418052,138418142,138418152,138418162,138418222,138418233...138418235,138418241,138418343,138418344,138418423,138418431,138418443,138418451,138418452,138418462,138418523,138418524,138418531,138418543,138418544,138418552,138418562,138418643,138418644,138418651,138418653,138418654,138418661,138418662,138418842,138418852,138418863,138418864,138418942,138418952,138419042,138419053,138419054,138419143,138419144,138419152,138419243,138419251,138419252,138419343,138419344,138419352,138419442,138419452,138419462,138419522,138419532,138419743,138419744,138419753,138419754,138419761,138419763...138419767,138419771,138419772,138419842,138419852,138419862,138419943,138419944,138420022,138420042,138420052,138420062,138420142,138420153,138420154,138420161,138420162,138420243,138420251,138420252,138420262,138420323,138420324,138420331,138420443...138420445,138420453...138420457,138420462,138420542,138420552,138420563,138420564,138420573,138420574,138420583...138420585,138420591,138420592,138420642,138420653...138420655,138420722,138420742,138420752,138420762,138420822,138420842,138420923,138420931,138421033...138421036,138421133...138421136,138421232,138421343...138421345,138421351,138421353,138421361,138421443,138421444,138421452,138421523,138421524,138421531,138421543,138421544,138421553...138421557,138421561,138421633...138421636,138421641,138421732,138421842,138421852,138421932&employment_sizeband=10,20,30,40&legal_status=0&measures=20100&select=date_name,geography_name,geography_code,industry_name,employment_sizeband_name,legal_status_name,measures_name,obs_value,obs_status_name\"\n",
    "\n",
    "#Initialise the object\n",
    "sizes_2016 = QueryNomis(link=sizes_2016_link,total_records=561792)\n",
    "\n",
    "#Run the query\n",
    "sizes_2016.query_nomis()\n",
    "\n",
    "#Extract the df\n",
    "idbr_sizebands_2016_df = sizes_2016.output_data"
   ]
  },
  {
   "cell_type": "code",
   "execution_count": 16,
   "metadata": {
    "collapsed": false
   },
   "outputs": [
    {
     "name": "stderr",
     "output_type": "stream",
     "text": [
      "/usr/local/lib/python3.5/site-packages/ipykernel/__main__.py:34: SettingWithCopyWarning: \n",
      "A value is trying to be set on a copy of a slice from a DataFrame.\n",
      "Try using .loc[row_indexer,col_indexer] = value instead\n",
      "\n",
      "See the caveats in the documentation: http://pandas.pydata.org/pandas-docs/stable/indexing.html#indexing-view-versus-copy\n"
     ]
    }
   ],
   "source": [
    "idbr_totals_obj = ProcessNomisAPi(idbr_total_df)\n",
    "idbr_totals_obj.process_data()\n",
    "idbr_totals_obj.gather_data()"
   ]
  },
  {
   "cell_type": "code",
   "execution_count": 10,
   "metadata": {
    "collapsed": false
   },
   "outputs": [
    {
     "name": "stdout",
     "output_type": "stream",
     "text": [
      "561792\n",
      "536792\n",
      "511792\n",
      "486792\n",
      "461792\n",
      "436792\n",
      "411792\n",
      "386792\n",
      "361792\n",
      "336792\n",
      "311792\n",
      "286792\n",
      "261792\n",
      "236792\n",
      "211792\n",
      "186792\n",
      "161792\n",
      "136792\n",
      "111792\n",
      "86792\n",
      "61792\n",
      "36792\n",
      "11792\n"
     ]
    }
   ],
   "source": [
    "#And we do the same thing for the 2017 data with sizebands\n",
    "sizes_2017_link = \"http://www.nomisweb.co.uk/api/v01/dataset/NM_141_1.data.csv?geography=1874854111,1874853904,1874853931,1874853936,1874853949,1874853952,1874853980,1874853984,1874854016,1874853894,1874853899,1874853901,1874853902,1874853914,1874854112,1874854113,1874853929,1874853959,1874853963,1874853970,1874853976,1874853990,1874853996,1874854026,1874854029,1874854033,1874853892,1874853907,1874853909,1874853933,1874853945,1874853947,1874853948,1874853954,1874853955,1874853966,1874853975,1874853985,1874854000...1874854002,1874854006,1874854025,1874854028,1874854037,1874853905,1874853917,1874853922,1874853926,1874853932,1874853943,1874853960,1874853967,1874853968,1874853977,1874853986,1874853988,1874854005,1874854010,1874854034,1874853900,1874853915,1874853927,1874853935,1874853951,1874853965,1874853973,1874854116,1874854003,1874854012,1874854014,1874854019,1874854031,1874854032,1874853897,1874853916,1874853918,1874853920,1874853924,1874853925,1874853930,1874853944,1874853956,1874853957,1874853961,1874853972,1874853974,1874853987,1874853992,1874854009,1874854013,1874854020,1874854030,1874853971,1874853889...1874853891,1874853895,1874853911,1874853919,1874853923,1874853928,1874853937,1874853941,1874853946,1874853950,1874853953,1874853958,1874853978,1874853979,1874853981,1874853983,1874853989,1874853995,1874853997,1874854007,1874854008,1874854023,1874854035,1874853893,1874853896,1874853898,1874853903,1874853906,1874853908,1874853910,1874853912,1874853913,1874853921,1874854114,1874853934,1874853938...1874853940,1874853942,1874853962,1874853964,1874853969,1874853982,1874853991,1874853993,1874853994,1874853998,1874853999,1874854004,1874854011,1874854015,1874854017,1874854018,1874854021,1874854022,1874854024,1874854027,1874854036,1874854038...1874854048,1874854115,1874854049...1874854069,1874854071...1874854099,1874854070,1874854100...1874854110&date=latest&industry=138412132,138412143...138412148,138412151,138412153...138412162,138412173...138412179,138412181,138412182,138412193...138412196,138412202,138412242,138412252,138412262,138412272,138412343,138412344,138412353,138412354,138412542,138412552,138412642,138412652,138412742,138412753,138412761,138412843,138412844,138412923...138412925,138412931,138412942,138413022,138413043...138413045,138413052,138413063,138413064,138413071,138413073,138413074,138413083,138413084,138413093,138413094,138413103...138413105,138413113...138413118,138413121,138413123,138413124,138413133...138413139,138413232,138413342,138413352,138413362,138413423...138413428,138413431,138413443...138413446,138413451,138413452,138413463,138413471,138413543,138413544,138413552,138413642,138413653...138413656,138413661,138413743,138413744,138413753...138413756,138413761,138413843...138413846,138413852,138413942,138413952,138414043...138414049,138414052,138414062,138414073,138414074,138414083...138414085,138414091,138414092,138414142,138414152,138414243,138414251,138414253...138414255,138414261,138414343...138414346,138414351,138414352,138414363,138414364,138414373...138414376,138414381,138414383,138414384,138414393...138414397,138414401,138414402,138414423,138414431,138414442,138414452,138414463...138414466,138414473...138414478,138414483...138414486,138414543,138414544,138414553,138414561,138414562,138414572,138414582,138414593,138414594,138414603...138414605,138414623...138414626,138414631,138414643,138414644,138414652,138414662,138414672,138414683,138414684,138414692,138414702,138414712,138414743,138414744,138414752,138414763...138414765,138414772,138414783,138414784,138414822,138414843...138414847,138414853...138414857,138414861,138414862,138414873,138414881,138414923...138414928,138414931,138414942,138414952,138414963,138414964,138415043,138415044,138415052,138415062,138415072,138415123,138415124,138415131,138415133...138415135,138415141,138415243...138415245,138415252,138415262,138415272,138415282,138415323,138415331,138415343...138415349,138415351,138415352,138415543...138415546,138415553...138415555,138415562,138415632,138415732,138415843,138415844,138415853,138415854,138415863,138415864,138415932,138416142,138416152,138416243...138416245,138416253,138416254,138416323,138416331,138416343...138416345,138416353,138416354,138416361,138416363...138416366,138416371,138416423,138416431,138416543,138416551,138416552,138416563,138416564,138416572,138416643...138416651,138416653...138416656,138416663...138416671,138416673...138416681,138416683,138416684,138416693...138416698,138416701,138416703...138416709,138416722,138416743,138416751,138416753...138416758,138416761,138416762,138416773...138416775,138416783...138416786,138416791,138416793...138416797,138416803...138416811,138416813,138416814,138416821,138416823,138416831,138416942,138416952,138416963,138416964,138416971,138416973,138416974,138416982,138417042,138417052,138417062,138417072,138417142,138417153,138417154,138417242,138417253...138417256,138417261,138417342,138417352,138417542,138417552,138417562,138417622,138417642,138417653,138417661,138417662,138417843...138417846,138417851,138417853,138417861,138417943...138417946,138417952,138418042,138418052,138418142,138418152,138418162,138418222,138418233...138418235,138418241,138418343,138418344,138418423,138418431,138418443,138418451,138418452,138418462,138418523,138418524,138418531,138418543,138418544,138418552,138418562,138418643,138418644,138418651,138418653,138418654,138418661,138418662,138418842,138418852,138418863,138418864,138418942,138418952,138419042,138419053,138419054,138419143,138419144,138419152,138419243,138419251,138419252,138419343,138419344,138419352,138419442,138419452,138419462,138419522,138419532,138419743,138419744,138419753,138419754,138419761,138419763...138419767,138419771,138419772,138419842,138419852,138419862,138419943,138419944,138420022,138420042,138420052,138420062,138420142,138420153,138420154,138420161,138420162,138420243,138420251,138420252,138420262,138420323,138420324,138420331,138420443...138420445,138420453...138420457,138420462,138420542,138420552,138420563,138420564,138420573,138420574,138420583...138420585,138420591,138420592,138420642,138420653...138420655,138420722,138420742,138420752,138420762,138420822,138420842,138420923,138420931,138421033...138421036,138421133...138421136,138421232,138421343...138421345,138421351,138421353,138421361,138421443,138421444,138421452,138421523,138421524,138421531,138421543,138421544,138421553...138421557,138421561,138421633...138421636,138421641,138421732,138421842,138421852,138421932&employment_sizeband=10,20,30,40&legal_status=0&measures=20100&select=date_name,geography_name,geography_code,industry_name,employment_sizeband_name,legal_status_name,measures_name,obs_value,obs_status_name\"\n",
    "\n",
    "#Initialise the object\n",
    "sizes_2017 = QueryNomis(link=sizes_2017_link,total_records=561792)\n",
    "\n",
    "#Run the query\n",
    "sizes_2017.query_nomis()\n",
    "\n",
    "#Extract the df\n",
    "idbr_sizebands_2017_df = sizes_2017.output_data"
   ]
  },
  {
   "cell_type": "code",
   "execution_count": 11,
   "metadata": {
    "collapsed": false
   },
   "outputs": [],
   "source": [
    "#Now we need to process the idbr data. What is the best format?\n",
    "\n",
    "class ProcessNomisAPi():\n",
    "    '''\n",
    "    What processing is required? Change variable names, combine with sic data and aggregate over a \n",
    "    sic codes as we did with the bres data.\n",
    "    \n",
    "    '''\n",
    "    \n",
    "    def __init__(self,data):\n",
    "        '''\n",
    "        We feed the data into the class\n",
    "        \n",
    "        '''\n",
    "        \n",
    "        self.data = data\n",
    "        \n",
    "    def process_data(self,names=['year','ttwa_name','ttwa_code','sic','sizeband','value']):\n",
    "        '''\n",
    "        Data processing includes removing irrelevant columns \n",
    "        \n",
    "        '''\n",
    "        \n",
    "        #Read data\n",
    "        data = self.data\n",
    "        \n",
    "        #Remove irrelevant columns\n",
    "        data = data.iloc[:,[0,1,2,3,4,7]]\n",
    "        \n",
    "        #Rename tidier\n",
    "        data.columns = names\n",
    "        \n",
    "        #Clean sic codes\n",
    "        data['sic'] = [x.split(\":\")[0].strip() for x in data['sic']]\n",
    "        \n",
    "        #Clean\n",
    "        self.processed_data = data\n",
    "    \n",
    "    def gather_data(self,sector_lookup=creative_lookup,sector_totals=True,sector_name='creative_industries'):\n",
    "        '''\n",
    "        Gather the data with the creative lookup\n",
    "        \n",
    "        '''\n",
    "        \n",
    "        #Read the data\n",
    "        data = self.processed_data\n",
    "        \n",
    "        #Merge with the creative data\n",
    "        data_merged = pd.merge(data,creative_lookup,\n",
    "                              left_on='sic',right_on='sic',how='outer')\n",
    "        \n",
    "        data_merged['sector'].fillna('not_in_sector',inplace=True)\n",
    "        \n",
    "        #Extract the sectoral values\n",
    "        sectoral_sizeband_stats = data_merged.groupby(['year','ttwa_name','ttwa_code',\n",
    "                                                       'sizeband','sector'])['value'].sum().reset_index(drop=False)\n",
    "        \n",
    "        \n",
    "        #Extract the CI values\n",
    "        all_cis_sizeband_stats = data_merged.loc[\n",
    "            [x != 'not_in_sector' for x in data_merged['sector']],:].groupby(\n",
    "            ['year','ttwa_name','ttwa_code','sizeband'])['value'].sum().reset_index(drop=False)\n",
    "        \n",
    "        \n",
    "        all_cis_sizeband_stats['sector'] = sector_name\n",
    "        \n",
    "        #Combine and output\n",
    "        all_data = pd.concat([sectoral_sizeband_stats,all_cis_sizeband_stats])\n",
    "        \n",
    "        self.gathered_data =all_data\n",
    "        \n",
    "        #return(all_data)\n"
   ]
  },
  {
   "cell_type": "code",
   "execution_count": 12,
   "metadata": {
    "collapsed": false
   },
   "outputs": [
    {
     "name": "stderr",
     "output_type": "stream",
     "text": [
      "/usr/local/lib/python3.5/site-packages/ipykernel/__main__.py:34: SettingWithCopyWarning: \n",
      "A value is trying to be set on a copy of a slice from a DataFrame.\n",
      "Try using .loc[row_indexer,col_indexer] = value instead\n",
      "\n",
      "See the caveats in the documentation: http://pandas.pydata.org/pandas-docs/stable/indexing.html#indexing-view-versus-copy\n"
     ]
    }
   ],
   "source": [
    "#Extract the sizeband data\n",
    "sizebands_obj = ProcessNomisAPi(pd.concat([idbr_sizebands_2016_df,idbr_sizebands_2017_df]))\n",
    "sizebands_obj.process_data()\n",
    "sizebands_obj.gather_data()\n",
    "\n",
    "idbr_sizebands_df = sizebands_obj.gathered_data"
   ]
  },
  {
   "cell_type": "code",
   "execution_count": 19,
   "metadata": {
    "collapsed": false
   },
   "outputs": [],
   "source": [
    "#Save data\n",
    "\n",
    "idbr_totals_obj.gathered_data.to_csv(int_data+'/{date}_idbr_totals.csv'.format(date=today_str),index=False)\n",
    "idbr_sizebands_df.to_csv(int_data+'/{date}_idbr_sizeband.csv'.format(date=today_str),index=False)\n"
   ]
  },
  {
   "cell_type": "markdown",
   "metadata": {
    "collapsed": true
   },
   "source": [
    "# Robustness checks\n",
    "\n",
    "## Check 1: Make sure we didn't mess up during data processing\n",
    "\n",
    "Check that the BRES statistics we have extracted are indeed correct. We work with the 'non-converted' BRES data and compare with the processed BRES data"
   ]
  },
  {
   "cell_type": "code",
   "execution_count": 33,
   "metadata": {
    "collapsed": false
   },
   "outputs": [],
   "source": [
    "#read the BRES data\n",
    "\n",
    "bres_1, bres_2 = [pd.read_csv(ext_data+'/bres_{y}.csv'.format(\n",
    "    y=y),skiprows=8).set_index('travel to work area 2011-based').drop('mnemonic',axis=1) for y in [2015,2016]]\n",
    "\n",
    "#Change column names\n",
    "bres_1.columns, bres_2.columns = [[x.split(\" :\")[0] for x in data] for data in [bres_1,bres_2]]"
   ]
  },
  {
   "cell_type": "code",
   "execution_count": 34,
   "metadata": {
    "collapsed": false
   },
   "outputs": [],
   "source": [
    "#Software codes\n",
    "it_codes = list(creative_lookup.sic[creative_lookup.sector=='IT, software and computer services'])"
   ]
  },
  {
   "cell_type": "code",
   "execution_count": 35,
   "metadata": {
    "collapsed": false
   },
   "outputs": [],
   "source": [
    "#Get Cardiff\n",
    "cardiff_creative_stats = pd.concat([x.loc['Cardiff',\n",
    "                                         [val for val in x.columns if val in it_codes]] for x in [bres_1,bres_2]],\n",
    "                                  axis=1)\n",
    "\n",
    "swansea_creative_stats = pd.concat([x.loc['Swansea',\n",
    "                                         [val for val in x.columns if val in it_codes]] for x in [bres_1,bres_2]],\n",
    "                                  axis=1)"
   ]
  },
  {
   "cell_type": "code",
   "execution_count": 36,
   "metadata": {
    "collapsed": false
   },
   "outputs": [
    {
     "data": {
      "text/plain": [
       "Cardiff    1765.0\n",
       "Cardiff    4300.0\n",
       "dtype: float64"
      ]
     },
     "execution_count": 36,
     "metadata": {},
     "output_type": "execute_result"
    }
   ],
   "source": [
    "cardiff_creative_stats.sum(axis=0)"
   ]
  },
  {
   "cell_type": "code",
   "execution_count": 37,
   "metadata": {
    "collapsed": false
   },
   "outputs": [
    {
     "data": {
      "text/plain": [
       "Swansea     915.0\n",
       "Swansea    1795.0\n",
       "dtype: float64"
      ]
     },
     "execution_count": 37,
     "metadata": {},
     "output_type": "execute_result"
    }
   ],
   "source": [
    "swansea_creative_stats.sum(axis=0)"
   ]
  },
  {
   "cell_type": "code",
   "execution_count": 46,
   "metadata": {
    "collapsed": false
   },
   "outputs": [
    {
     "name": "stdout",
     "output_type": "stream",
     "text": [
      "Cardiff\n",
      "ttwa_code\n",
      "W22000024    1765.0\n",
      "W22000024    4300.0\n",
      "Name: IT, software and computer services, dtype: float64\n",
      "Swansea\n",
      "ttwa_code\n",
      "W22000032     915.0\n",
      "W22000032    1795.0\n",
      "Name: IT, software and computer services, dtype: float64\n"
     ]
    },
    {
     "name": "stderr",
     "output_type": "stream",
     "text": [
      "/usr/local/lib/python3.5/site-packages/ipykernel/__main__.py:5: PerformanceWarning: indexing past lexsort depth may impact performance.\n"
     ]
    }
   ],
   "source": [
    "#How does this compare with the other BRES numbers\n",
    "\n",
    "for x in ['Cardiff','Swansea']:\n",
    "    print(x)\n",
    "    print(bres_totals_df.loc[x,'IT, software and computer services'])"
   ]
  },
  {
   "cell_type": "markdown",
   "metadata": {},
   "source": [
    "Ok so it all checks. It's not a problem with the data processing"
   ]
  },
  {
   "cell_type": "markdown",
   "metadata": {},
   "source": [
    "## Check 2: compare employee and employment figures"
   ]
  },
  {
   "cell_type": "code",
   "execution_count": 101,
   "metadata": {
    "collapsed": false
   },
   "outputs": [],
   "source": [
    "#Get Welsh TTWAs\n",
    "\n",
    "welsh_ttwas = set([x[0] for x in bres_totals_df.index if x[1][0]=='W'])"
   ]
  },
  {
   "cell_type": "code",
   "execution_count": 102,
   "metadata": {
    "collapsed": false
   },
   "outputs": [],
   "source": [
    "#Extract bres_data with employees\n",
    "bres_data_employees = [BresData(ext_data+'/bres_employees_{y}.csv'.format(\n",
    "    y=x),year=x).read_clean_data().gather_by_sector(creative_lookup) for x in ['2015','2016']]\n",
    "\n",
    "\n",
    "bres_totals_employees_df = pd.concat([x.gathered_data for x in bres_data_employees])\n",
    "\n",
    "#bres_totals_df.to_csv(ext_data+'/bres_creative_2015_16.csv')"
   ]
  },
  {
   "cell_type": "code",
   "execution_count": 103,
   "metadata": {
    "collapsed": false
   },
   "outputs": [],
   "source": [
    "#We calculate the differences between employment and employee stat in every TTWA\n",
    "#Contaner\n",
    "bres_employment_employee_diff = []\n",
    "\n",
    "#Loop\n",
    "for x in welsh_ttwas:\n",
    "    #What is the difference between estimates based on employees and employment?\n",
    "    difference = bres_totals_df.loc[x,:].T.iloc[:-1,:]- bres_totals_employees_df.loc[x,:].T.iloc[:-1,:]\n",
    "    difference.columns= [2015,2016]\n",
    "    \n",
    "    bres_employment_employee_diff.append(difference.reset_index(drop=False))\n",
    "    \n",
    "\n",
    "employment_diff_all_conc = pd.concat(bres_employment_employee_diff)\n"
   ]
  },
  {
   "cell_type": "code",
   "execution_count": 104,
   "metadata": {
    "collapsed": false
   },
   "outputs": [
    {
     "data": {
      "text/html": [
       "<div>\n",
       "<style scoped>\n",
       "    .dataframe tbody tr th:only-of-type {\n",
       "        vertical-align: middle;\n",
       "    }\n",
       "\n",
       "    .dataframe tbody tr th {\n",
       "        vertical-align: top;\n",
       "    }\n",
       "\n",
       "    .dataframe thead th {\n",
       "        text-align: right;\n",
       "    }\n",
       "</style>\n",
       "<table border=\"1\" class=\"dataframe\">\n",
       "  <thead>\n",
       "    <tr style=\"text-align: right;\">\n",
       "      <th></th>\n",
       "      <th>2015</th>\n",
       "      <th>2016</th>\n",
       "    </tr>\n",
       "    <tr>\n",
       "      <th>sector</th>\n",
       "      <th></th>\n",
       "      <th></th>\n",
       "    </tr>\n",
       "  </thead>\n",
       "  <tbody>\n",
       "    <tr>\n",
       "      <th>Advertising and marketing</th>\n",
       "      <td>155.0</td>\n",
       "      <td>10.0</td>\n",
       "    </tr>\n",
       "    <tr>\n",
       "      <th>Architecture</th>\n",
       "      <td>30.0</td>\n",
       "      <td>0.0</td>\n",
       "    </tr>\n",
       "    <tr>\n",
       "      <th>Crafts</th>\n",
       "      <td>0.0</td>\n",
       "      <td>0.0</td>\n",
       "    </tr>\n",
       "    <tr>\n",
       "      <th>Design</th>\n",
       "      <td>20.0</td>\n",
       "      <td>30.0</td>\n",
       "    </tr>\n",
       "    <tr>\n",
       "      <th>Film, TV, video, radio and photography</th>\n",
       "      <td>200.0</td>\n",
       "      <td>20.0</td>\n",
       "    </tr>\n",
       "    <tr>\n",
       "      <th>IT, software and computer services</th>\n",
       "      <td>0.0</td>\n",
       "      <td>1055.0</td>\n",
       "    </tr>\n",
       "    <tr>\n",
       "      <th>Museums, galleries and libraries</th>\n",
       "      <td>0.0</td>\n",
       "      <td>0.0</td>\n",
       "    </tr>\n",
       "    <tr>\n",
       "      <th>Music, performing and visual arts</th>\n",
       "      <td>465.0</td>\n",
       "      <td>270.0</td>\n",
       "    </tr>\n",
       "    <tr>\n",
       "      <th>Publishing</th>\n",
       "      <td>110.0</td>\n",
       "      <td>25.0</td>\n",
       "    </tr>\n",
       "    <tr>\n",
       "      <th>creative_industries</th>\n",
       "      <td>980.0</td>\n",
       "      <td>1410.0</td>\n",
       "    </tr>\n",
       "    <tr>\n",
       "      <th>not_in_sector</th>\n",
       "      <td>41405.0</td>\n",
       "      <td>31070.0</td>\n",
       "    </tr>\n",
       "  </tbody>\n",
       "</table>\n",
       "</div>"
      ],
      "text/plain": [
       "                                           2015     2016\n",
       "sector                                                  \n",
       "Advertising and marketing                 155.0     10.0\n",
       "Architecture                               30.0      0.0\n",
       "Crafts                                      0.0      0.0\n",
       "Design                                     20.0     30.0\n",
       "Film, TV, video, radio and photography    200.0     20.0\n",
       "IT, software and computer services          0.0   1055.0\n",
       "Museums, galleries and libraries            0.0      0.0\n",
       "Music, performing and visual arts         465.0    270.0\n",
       "Publishing                                110.0     25.0\n",
       "creative_industries                       980.0   1410.0\n",
       "not_in_sector                           41405.0  31070.0"
      ]
     },
     "execution_count": 104,
     "metadata": {},
     "output_type": "execute_result"
    }
   ],
   "source": [
    "#At least in Cardiff, the employment measure seems to vastly increase the number of people working in IT in\n",
    "#one period but not another.\n",
    "employment_diff_all_conc.groupby('sector').sum()"
   ]
  },
  {
   "cell_type": "markdown",
   "metadata": {},
   "source": [
    "Could the employment figures generate flakiness? The change in 2015 was about including companies with a single PAYE account (companies that employ a single owner-worker).\n",
    "We can report 2015 and 2016 averages in employment and changes in employees between 2015 and 2016"
   ]
  },
  {
   "cell_type": "code",
   "execution_count": 182,
   "metadata": {
    "collapsed": true
   },
   "outputs": [],
   "source": [
    "bres_totals_employees_df.to_csv(ext_data+'/{y}_bres_employee_data.csv'.format(y=today_str))"
   ]
  },
  {
   "cell_type": "markdown",
   "metadata": {},
   "source": [
    "## Check 3: compare growth in IDBR employment and BRES employment"
   ]
  },
  {
   "cell_type": "code",
   "execution_count": 154,
   "metadata": {
    "collapsed": false
   },
   "outputs": [
    {
     "name": "stderr",
     "output_type": "stream",
     "text": [
      "/usr/local/lib/python3.5/site-packages/pandas/util/_decorators.py:118: FutureWarning: The `sheetname` keyword is deprecated, use `sheet_name` instead\n",
      "  return func(*args, **kwargs)\n"
     ]
    }
   ],
   "source": [
    "#We load frontier economics IDBR data for that\n",
    "\n",
    "#These are the variables we want to focus on\n",
    "my_variables = ['industry','TTWA name','Employment','Year']\n",
    "\n",
    "#Load the first frontier extract (NB these are enterprises, not local units)\n",
    "front_idbr_extract = pd.read_excel(\n",
    "    ext_data+'/frontier/spd-creative clusters counts and LQs-06-11-2017.xlsx',sheetname=4)[\n",
    "    my_variables]\n",
    "\n",
    "front_idbr_extract['industry'] = [x if ':' not in x else 'Design' for x in front_idbr_extract['industry']]\n",
    "\n",
    "frontier_emp_growth = pd.pivot_table(front_idbr_extract,index=['TTWA name','industry'],\n",
    "                                    columns='Year',values='Employment')\n",
    "\n",
    "frontier_emp_growth['idbr_change'] = frontier_emp_growth[2016]/frontier_emp_growth[2015]  \n",
    "\n",
    "#Now compare to BRES\n",
    "\n",
    "\n"
   ]
  },
  {
   "cell_type": "code",
   "execution_count": 173,
   "metadata": {
    "collapsed": false
   },
   "outputs": [],
   "source": [
    "#OUCH!\n",
    "bres_emp_growth = pd.pivot_table(pd.melt(bres_totals_employees_df.reset_index(drop=False).drop('ttwa_code',axis=1),\n",
    "                                         id_vars=['ttwa_name','year']),\n",
    "                                 index=['ttwa_name','sector'],columns='year',values='value')\n",
    "\n",
    "bres_emp_growth['bres_change'] = bres_emp_growth['2016']/bres_emp_growth['2015']"
   ]
  },
  {
   "cell_type": "code",
   "execution_count": 174,
   "metadata": {
    "collapsed": false
   },
   "outputs": [],
   "source": [
    "#Concatenated\n",
    "\n",
    "growth_comparison = pd.concat([frontier_emp_growth['idbr_change'],\n",
    "                               bres_emp_growth['bres_change']],axis=1).reset_index(drop=False).dropna()\n",
    "\n",
    "growth_comparison.rename(columns={'level_0':'ttwa_name','level_1':'sector'},inplace=True)"
   ]
  },
  {
   "cell_type": "code",
   "execution_count": 175,
   "metadata": {
    "collapsed": false
   },
   "outputs": [],
   "source": [
    "growth_correlations = []\n",
    "\n",
    "\n",
    "for x in set(growth_comparison.sector):\n",
    "    sector_corr = growth_comparison.loc[growth_comparison.sector==x,:].iloc[:,2:].corr()\n",
    "    \n",
    "    growth_correlations.append([x,sector_corr])\n"
   ]
  },
  {
   "cell_type": "code",
   "execution_count": 178,
   "metadata": {
    "collapsed": false
   },
   "outputs": [
    {
     "data": {
      "text/plain": [
       "[['Design',              idbr_change  bres_change\n",
       "  idbr_change     1.000000     0.143487\n",
       "  bres_change     0.143487     1.000000],\n",
       " ['Music, performing and visual arts',              idbr_change  bres_change\n",
       "  idbr_change     1.000000    -0.028394\n",
       "  bres_change    -0.028394     1.000000],\n",
       " ['Publishing',              idbr_change  bres_change\n",
       "  idbr_change     1.000000    -0.164414\n",
       "  bres_change    -0.164414     1.000000],\n",
       " ['Film, TV, video, radio and photography',\n",
       "               idbr_change  bres_change\n",
       "  idbr_change     1.000000     0.022848\n",
       "  bres_change     0.022848     1.000000],\n",
       " ['IT, software and computer services',              idbr_change  bres_change\n",
       "  idbr_change     1.000000    -0.015399\n",
       "  bres_change    -0.015399     1.000000],\n",
       " ['Architecture',              idbr_change  bres_change\n",
       "  idbr_change     1.000000     0.348532\n",
       "  bres_change     0.348532     1.000000],\n",
       " ['Advertising and marketing',              idbr_change  bres_change\n",
       "  idbr_change     1.000000     0.404176\n",
       "  bres_change     0.404176     1.000000]]"
      ]
     },
     "execution_count": 178,
     "metadata": {},
     "output_type": "execute_result"
    }
   ],
   "source": [
    "# :-(\n",
    "#Not sure we are correlating the right periods and variables\n",
    "growth_correlations"
   ]
  },
  {
   "cell_type": "code",
   "execution_count": 184,
   "metadata": {
    "collapsed": false
   },
   "outputs": [
    {
     "data": {
      "text/plain": [
       "178.3"
      ]
     },
     "execution_count": 184,
     "metadata": {},
     "output_type": "execute_result"
    }
   ],
   "source": [
    "12+12.30+154"
   ]
  },
  {
   "cell_type": "code",
   "execution_count": null,
   "metadata": {
    "collapsed": true
   },
   "outputs": [],
   "source": []
  }
 ],
 "metadata": {
  "kernelspec": {
   "display_name": "Python 3",
   "language": "python",
   "name": "python3"
  },
  "language_info": {
   "codemirror_mode": {
    "name": "ipython",
    "version": 3
   },
   "file_extension": ".py",
   "mimetype": "text/x-python",
   "name": "python",
   "nbconvert_exporter": "python",
   "pygments_lexer": "ipython3",
   "version": "3.5.2"
  }
 },
 "nbformat": 4,
 "nbformat_minor": 2
}
